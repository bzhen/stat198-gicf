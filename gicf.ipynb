{
 "cells": [
  {
   "cell_type": "markdown",
   "metadata": {},
   "source": [
    "# Stat198: Group Instance Cost Function #"
   ]
  },
  {
   "cell_type": "markdown",
   "metadata": {},
   "source": [
    "## Setup"
   ]
  },
  {
   "cell_type": "code",
   "execution_count": 1,
   "metadata": {
    "collapsed": true
   },
   "outputs": [],
   "source": [
    "# imports\n",
    "import json\n",
    "import pandas as pd\n",
    "from pprint import pprint"
   ]
  },
  {
   "cell_type": "markdown",
   "metadata": {},
   "source": [
    "## Amazon .json file format\n",
    "    reviewerID - ID of the reviewer, e.g. A2SUAM1J3GNN3B\n",
    "    asin - ID of the product, e.g. 0000013714\n",
    "    reviewerName - name of the reviewer\n",
    "    helpful - helpfulness rating of the review, e.g. 2/3\n",
    "    reviewText - text of the review\n",
    "    overall - rating of the product\n",
    "    summary - summary of the review\n",
    "    unixReviewTime - time of the review (unix time)\n",
    "    reviewTime - time of the review (raw)"
   ]
  },
  {
   "cell_type": "code",
   "execution_count": 2,
   "metadata": {
    "collapsed": false
   },
   "outputs": [
    {
     "ename": "TypeError",
     "evalue": "read_json() got an unexpected keyword argument 'lines'",
     "output_type": "error",
     "traceback": [
      "\u001b[0;31m---------------------------------------------------------------------------\u001b[0m",
      "\u001b[0;31mTypeError\u001b[0m                                 Traceback (most recent call last)",
      "\u001b[0;32m<ipython-input-2-ec68e485ce0c>\u001b[0m in \u001b[0;36m<module>\u001b[0;34m()\u001b[0m\n\u001b[1;32m      3\u001b[0m \u001b[0mfile_path\u001b[0m \u001b[0;34m=\u001b[0m \u001b[0;34m'C:/Users/Gavin/Desktop/Cell_Phones_and_Accessories_5.json'\u001b[0m\u001b[0;34m\u001b[0m\u001b[0m\n\u001b[1;32m      4\u001b[0m \u001b[0;34m\u001b[0m\u001b[0m\n\u001b[0;32m----> 5\u001b[0;31m \u001b[0mdf\u001b[0m \u001b[0;34m=\u001b[0m \u001b[0mpd\u001b[0m\u001b[0;34m.\u001b[0m\u001b[0mread_json\u001b[0m\u001b[0;34m(\u001b[0m\u001b[0mfile_path\u001b[0m\u001b[0;34m,\u001b[0m \u001b[0;34m'r'\u001b[0m\u001b[0;34m,\u001b[0m \u001b[0mlines\u001b[0m\u001b[0;34m=\u001b[0m\u001b[0;32mTrue\u001b[0m\u001b[0;34m)\u001b[0m\u001b[0;34m\u001b[0m\u001b[0m\n\u001b[0m",
      "\u001b[0;31mTypeError\u001b[0m: read_json() got an unexpected keyword argument 'lines'"
     ]
    }
   ],
   "source": [
    "# parse data downloaded from http://jmcauley.ucsd.edu/data/amazon/\n",
    "\n",
    "file_path = 'C:/Users/Gavin/Desktop/Cell_Phones_and_Accessories_5.json'\n",
    "\n",
    "df = pd.read_json(file_path, 'r', lines=True)"
   ]
  },
  {
   "cell_type": "code",
   "execution_count": 12,
   "metadata": {
    "collapsed": false
   },
   "outputs": [
    {
     "ename": "NameError",
     "evalue": "name 'head' is not defined",
     "output_type": "error",
     "traceback": [
      "\u001b[0;31m---------------------------------------------------------------------------\u001b[0m",
      "\u001b[0;31mNameError\u001b[0m                                 Traceback (most recent call last)",
      "\u001b[0;32m<ipython-input-12-7ceac066e35c>\u001b[0m in \u001b[0;36m<module>\u001b[0;34m()\u001b[0m\n\u001b[1;32m     19\u001b[0m \u001b[0mdf\u001b[0m \u001b[0;34m=\u001b[0m \u001b[0mgetDF\u001b[0m\u001b[0;34m(\u001b[0m\u001b[0;34m'reviews_Cell_Phones_and_Accessories_5.json.gz'\u001b[0m\u001b[0;34m)\u001b[0m\u001b[0;34m\u001b[0m\u001b[0m\n\u001b[1;32m     20\u001b[0m \u001b[0;34m\u001b[0m\u001b[0m\n\u001b[0;32m---> 21\u001b[0;31m \u001b[0mhead\u001b[0m\u001b[0;34m.\u001b[0m\u001b[0mdf\u001b[0m\u001b[0;34m\u001b[0m\u001b[0m\n\u001b[0m",
      "\u001b[0;31mNameError\u001b[0m: name 'head' is not defined"
     ]
    }
   ],
   "source": [
    "# above cells did not work for me so I used that to parse the data and added the gz file to the git repo\n",
    "\n",
    "# parse data downloaded from http://jmcauley.ucsd.edu/data/amazon/\n",
    "\n",
    "import pandas as pd \n",
    "import gzip \n",
    "\n",
    "def parse(path): \n",
    "    g = gzip.open(path, 'rb') \n",
    "    for l in g: \n",
    "        yield eval(l) \n",
    "        \n",
    "def getDF(path): \n",
    "    i = 0 \n",
    "    df = {}\n",
    "    for d in parse(path): \n",
    "        df[i] = d \n",
    "        i += 1 \n",
    "    return pd.DataFrame.from_dict(df, orient='index') \n",
    "\n",
    "df = getDF('reviews_Cell_Phones_and_Accessories_5.json.gz')"
   ]
  },
  {
   "cell_type": "code",
   "execution_count": 13,
   "metadata": {
    "collapsed": false
   },
   "outputs": [
    {
     "data": {
      "text/html": [
       "<div>\n",
       "<table border=\"1\" class=\"dataframe\">\n",
       "  <thead>\n",
       "    <tr style=\"text-align: right;\">\n",
       "      <th></th>\n",
       "      <th>summary</th>\n",
       "      <th>asin</th>\n",
       "      <th>unixReviewTime</th>\n",
       "      <th>helpful</th>\n",
       "      <th>reviewerID</th>\n",
       "      <th>reviewText</th>\n",
       "      <th>reviewerName</th>\n",
       "      <th>overall</th>\n",
       "      <th>reviewTime</th>\n",
       "    </tr>\n",
       "  </thead>\n",
       "  <tbody>\n",
       "    <tr>\n",
       "      <th>0</th>\n",
       "      <td>Looks Good</td>\n",
       "      <td>120401325X</td>\n",
       "      <td>1400630400</td>\n",
       "      <td>[0, 0]</td>\n",
       "      <td>A30TL5EWN6DFXT</td>\n",
       "      <td>They look good and stick good! I just don't li...</td>\n",
       "      <td>christina</td>\n",
       "      <td>4.0</td>\n",
       "      <td>05 21, 2014</td>\n",
       "    </tr>\n",
       "    <tr>\n",
       "      <th>1</th>\n",
       "      <td>Really great product.</td>\n",
       "      <td>120401325X</td>\n",
       "      <td>1389657600</td>\n",
       "      <td>[0, 0]</td>\n",
       "      <td>ASY55RVNIL0UD</td>\n",
       "      <td>These stickers work like the review says they ...</td>\n",
       "      <td>emily l.</td>\n",
       "      <td>5.0</td>\n",
       "      <td>01 14, 2014</td>\n",
       "    </tr>\n",
       "    <tr>\n",
       "      <th>2</th>\n",
       "      <td>LOVE LOVE LOVE</td>\n",
       "      <td>120401325X</td>\n",
       "      <td>1403740800</td>\n",
       "      <td>[0, 0]</td>\n",
       "      <td>A2TMXE2AFO7ONB</td>\n",
       "      <td>These are awesome and make my phone look so st...</td>\n",
       "      <td>Erica</td>\n",
       "      <td>5.0</td>\n",
       "      <td>06 26, 2014</td>\n",
       "    </tr>\n",
       "    <tr>\n",
       "      <th>3</th>\n",
       "      <td>Cute!</td>\n",
       "      <td>120401325X</td>\n",
       "      <td>1382313600</td>\n",
       "      <td>[4, 4]</td>\n",
       "      <td>AWJ0WZQYMYFQ4</td>\n",
       "      <td>Item arrived in great time and was in perfect ...</td>\n",
       "      <td>JM</td>\n",
       "      <td>4.0</td>\n",
       "      <td>10 21, 2013</td>\n",
       "    </tr>\n",
       "    <tr>\n",
       "      <th>4</th>\n",
       "      <td>leopard home button sticker for iphone 4s</td>\n",
       "      <td>120401325X</td>\n",
       "      <td>1359849600</td>\n",
       "      <td>[2, 3]</td>\n",
       "      <td>ATX7CZYFXI1KW</td>\n",
       "      <td>awesome! stays on, and looks great. can be use...</td>\n",
       "      <td>patrice m rogoza</td>\n",
       "      <td>5.0</td>\n",
       "      <td>02 3, 2013</td>\n",
       "    </tr>\n",
       "  </tbody>\n",
       "</table>\n",
       "</div>"
      ],
      "text/plain": [
       "                                     summary        asin  unixReviewTime  \\\n",
       "0                                 Looks Good  120401325X      1400630400   \n",
       "1                      Really great product.  120401325X      1389657600   \n",
       "2                             LOVE LOVE LOVE  120401325X      1403740800   \n",
       "3                                      Cute!  120401325X      1382313600   \n",
       "4  leopard home button sticker for iphone 4s  120401325X      1359849600   \n",
       "\n",
       "  helpful      reviewerID                                         reviewText  \\\n",
       "0  [0, 0]  A30TL5EWN6DFXT  They look good and stick good! I just don't li...   \n",
       "1  [0, 0]   ASY55RVNIL0UD  These stickers work like the review says they ...   \n",
       "2  [0, 0]  A2TMXE2AFO7ONB  These are awesome and make my phone look so st...   \n",
       "3  [4, 4]   AWJ0WZQYMYFQ4  Item arrived in great time and was in perfect ...   \n",
       "4  [2, 3]   ATX7CZYFXI1KW  awesome! stays on, and looks great. can be use...   \n",
       "\n",
       "       reviewerName  overall   reviewTime  \n",
       "0         christina      4.0  05 21, 2014  \n",
       "1          emily l.      5.0  01 14, 2014  \n",
       "2             Erica      5.0  06 26, 2014  \n",
       "3                JM      4.0  10 21, 2013  \n",
       "4  patrice m rogoza      5.0   02 3, 2013  "
      ]
     },
     "execution_count": 13,
     "metadata": {},
     "output_type": "execute_result"
    }
   ],
   "source": [
    "df.head()"
   ]
  },
  {
   "cell_type": "code",
   "execution_count": 14,
   "metadata": {
    "collapsed": false
   },
   "outputs": [],
   "source": [
    "#Preprocessing data\n",
    "\n",
    "def reviews_to_word_split(reviews):\n",
    "    \"\"\"\n",
    "    Given a set of reviews, converts each to lowercase, splits them into sentences and splits each sentence into words. Strips \n",
    "    all commas, periods, and dashes from each review.\n",
    "    \"\"\"\n",
    "    reviews = reviews.str.lower()\n",
    "    reviews = reviews.str.replace(\"[,|-]\", \"\")\n",
    "    reviews = reviews.str.split(\"[.*\\.|\\!|?]\")\n",
    "    return [[sentance.split() for sentance in review] for review in reviews]\n",
    "\n",
    "df.loc[:, \"reviewText\"] = reviews_to_word_split(df.loc[:, \"reviewText\"])"
   ]
  },
  {
   "cell_type": "code",
   "execution_count": 15,
   "metadata": {
    "collapsed": false
   },
   "outputs": [
    {
     "data": {
      "text/html": [
       "<div>\n",
       "<table border=\"1\" class=\"dataframe\">\n",
       "  <thead>\n",
       "    <tr style=\"text-align: right;\">\n",
       "      <th></th>\n",
       "      <th>summary</th>\n",
       "      <th>asin</th>\n",
       "      <th>unixReviewTime</th>\n",
       "      <th>helpful</th>\n",
       "      <th>reviewerID</th>\n",
       "      <th>reviewText</th>\n",
       "      <th>reviewerName</th>\n",
       "      <th>overall</th>\n",
       "      <th>reviewTime</th>\n",
       "    </tr>\n",
       "  </thead>\n",
       "  <tbody>\n",
       "    <tr>\n",
       "      <th>0</th>\n",
       "      <td>Looks Good</td>\n",
       "      <td>120401325X</td>\n",
       "      <td>1400630400</td>\n",
       "      <td>[0, 0]</td>\n",
       "      <td>A30TL5EWN6DFXT</td>\n",
       "      <td>[[they, look, good, and, stick, good], [i, jus...</td>\n",
       "      <td>christina</td>\n",
       "      <td>4.0</td>\n",
       "      <td>05 21, 2014</td>\n",
       "    </tr>\n",
       "    <tr>\n",
       "      <th>1</th>\n",
       "      <td>Really great product.</td>\n",
       "      <td>120401325X</td>\n",
       "      <td>1389657600</td>\n",
       "      <td>[0, 0]</td>\n",
       "      <td>ASY55RVNIL0UD</td>\n",
       "      <td>[[these, stickers, work, like, the, review, sa...</td>\n",
       "      <td>emily l.</td>\n",
       "      <td>5.0</td>\n",
       "      <td>01 14, 2014</td>\n",
       "    </tr>\n",
       "    <tr>\n",
       "      <th>2</th>\n",
       "      <td>LOVE LOVE LOVE</td>\n",
       "      <td>120401325X</td>\n",
       "      <td>1403740800</td>\n",
       "      <td>[0, 0]</td>\n",
       "      <td>A2TMXE2AFO7ONB</td>\n",
       "      <td>[[these, are, awesome, and, make, my, phone, l...</td>\n",
       "      <td>Erica</td>\n",
       "      <td>5.0</td>\n",
       "      <td>06 26, 2014</td>\n",
       "    </tr>\n",
       "    <tr>\n",
       "      <th>3</th>\n",
       "      <td>Cute!</td>\n",
       "      <td>120401325X</td>\n",
       "      <td>1382313600</td>\n",
       "      <td>[4, 4]</td>\n",
       "      <td>AWJ0WZQYMYFQ4</td>\n",
       "      <td>[[item, arrived, in, great, time, and, was, in...</td>\n",
       "      <td>JM</td>\n",
       "      <td>4.0</td>\n",
       "      <td>10 21, 2013</td>\n",
       "    </tr>\n",
       "    <tr>\n",
       "      <th>4</th>\n",
       "      <td>leopard home button sticker for iphone 4s</td>\n",
       "      <td>120401325X</td>\n",
       "      <td>1359849600</td>\n",
       "      <td>[2, 3]</td>\n",
       "      <td>ATX7CZYFXI1KW</td>\n",
       "      <td>[[awesome], [stays, on, and, looks, great], [c...</td>\n",
       "      <td>patrice m rogoza</td>\n",
       "      <td>5.0</td>\n",
       "      <td>02 3, 2013</td>\n",
       "    </tr>\n",
       "  </tbody>\n",
       "</table>\n",
       "</div>"
      ],
      "text/plain": [
       "                                     summary        asin  unixReviewTime  \\\n",
       "0                                 Looks Good  120401325X      1400630400   \n",
       "1                      Really great product.  120401325X      1389657600   \n",
       "2                             LOVE LOVE LOVE  120401325X      1403740800   \n",
       "3                                      Cute!  120401325X      1382313600   \n",
       "4  leopard home button sticker for iphone 4s  120401325X      1359849600   \n",
       "\n",
       "  helpful      reviewerID                                         reviewText  \\\n",
       "0  [0, 0]  A30TL5EWN6DFXT  [[they, look, good, and, stick, good], [i, jus...   \n",
       "1  [0, 0]   ASY55RVNIL0UD  [[these, stickers, work, like, the, review, sa...   \n",
       "2  [0, 0]  A2TMXE2AFO7ONB  [[these, are, awesome, and, make, my, phone, l...   \n",
       "3  [4, 4]   AWJ0WZQYMYFQ4  [[item, arrived, in, great, time, and, was, in...   \n",
       "4  [2, 3]   ATX7CZYFXI1KW  [[awesome], [stays, on, and, looks, great], [c...   \n",
       "\n",
       "       reviewerName  overall   reviewTime  \n",
       "0         christina      4.0  05 21, 2014  \n",
       "1          emily l.      5.0  01 14, 2014  \n",
       "2             Erica      5.0  06 26, 2014  \n",
       "3                JM      4.0  10 21, 2013  \n",
       "4  patrice m rogoza      5.0   02 3, 2013  "
      ]
     },
     "execution_count": 15,
     "metadata": {},
     "output_type": "execute_result"
    }
   ],
   "source": [
    "df.head()"
   ]
  },
  {
   "cell_type": "code",
   "execution_count": null,
   "metadata": {
    "collapsed": true
   },
   "outputs": [],
   "source": []
  }
 ],
 "metadata": {
  "anaconda-cloud": {},
  "kernelspec": {
   "display_name": "Python [default]",
   "language": "python",
   "name": "python3"
  },
  "language_info": {
   "codemirror_mode": {
    "name": "ipython",
    "version": 3
   },
   "file_extension": ".py",
   "mimetype": "text/x-python",
   "name": "python",
   "nbconvert_exporter": "python",
   "pygments_lexer": "ipython3",
   "version": "3.5.2"
  }
 },
 "nbformat": 4,
 "nbformat_minor": 2
}
